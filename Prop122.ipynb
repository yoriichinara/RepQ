{
 "cells": [
  {
   "cell_type": "markdown",
   "id": "1cf9cbe1-6675-419f-a5a6-7992cbdc071b",
   "metadata": {},
   "source": [
    "# Descripción del problema \n",
    "\n",
    "- $A=(a_{ij})\\in M_{d\\times n}(\\mathbb{Z}^+)$\n",
    "- $b = \\begin{pmatrix} b_1 \\\\ b_2 \\\\ \\vdots \\\\  b_n \\end{pmatrix},\\ \\ \\  b_i \\in \\mathbb{Z}^+$ \n",
    "- $w = \\begin{pmatrix} w_1 & w_2 & \\cdots & w_n \\end{pmatrix} \\in \\mathbb{R}^n$. Optimice el gasto $w\\cdot u$ sujeto a $A\\cdot u = b$\n",
    "\n",
    "Forma de la solución: \n",
    "- $u = \\begin{pmatrix} u_1 \\\\ u_2 \\\\ \\vdots \\\\  u_n \\end{pmatrix},\\ \\ \\  u_i \\in \\mathbb{Z}^+$\n",
    "\n",
    "Condiciones: \n",
    "- $\\displaystyle \\sum a_{i\\theta} = \\alpha \\hspace{1cm}$      &&     $\\hspace{1cm}\\displaystyle \\sum b_i = m\\alpha$\n",
    "\n",
    "Lo cual implica:\n",
    "- $\\displaystyle \\sum \\sum a_{\\theta j}u_i = \\alpha\\sum u_i = \\sum{b_i} = m\\alpha \\hspace{1cm}$ osease $\\displaystyle \\sum u_i = m$ "
   ]
  },
  {
   "cell_type": "markdown",
   "id": "24933d93-25d3-4555-8801-03c5316ed874",
   "metadata": {},
   "source": [
    "# Operaciones Tropicales\n",
    "## Definición de las operaciones "
   ]
  },
  {
   "cell_type": "code",
   "execution_count": 1,
   "id": "054788dd-6415-4104-92f7-6d10a44e4987",
   "metadata": {},
   "outputs": [
    {
     "data": {
      "text/plain": [
       "[3*x^5*y*z^7, 6*x*y^2*z^5]"
      ]
     },
     "execution_count": 1,
     "metadata": {},
     "output_type": "execute_result"
    }
   ],
   "source": [
    "# Busca los indices de elementos repetidos en una lista \n",
    "# list: donde voy a buscar \n",
    "# elemento: lo que estoy buscando \n",
    "def sem(list, elemento): \n",
    "    return [indice for indice, x in enumerate(list) if x == elemento]\n",
    "\n",
    "# OPERACIÓN SUMA - MÍNIMO \n",
    "# terms: Elementos a sumar \n",
    "# polynom: Me dice si los elementos en terms son polinomios - en cuantas variables \n",
    "def plus(terms, polynom = None):\n",
    "    # Solo son números \n",
    "    if polynom == None:\n",
    "        ans = min(terms)\n",
    "    else:\n",
    "        # Miro coeficientes y potencias para agrupar términos semejantes \n",
    "        coef = []\n",
    "        potencias = []\n",
    "        for i in terms: \n",
    "            coef.append(i.coefficients(x)[0][0])\n",
    "            potencias.append([i.coefficients(x)[0][1]])\n",
    "        for i in range(polynom - 1): \n",
    "            for j in range(len(coef)):\n",
    "                potencias[j].append(coef[j].coefficients()[0][1])\n",
    "                coef[j] = coef[j].coefficients()[0][0]\n",
    "        casians = []\n",
    "        for i in potencias: \n",
    "            coef_surv = sem(potencias, i)\n",
    "            sublist_coef = [coef[indice] for indice in coef_surv]\n",
    "            sublist_terms = [terms[indice] for indice in coef_surv]\n",
    "            if len(coef_surv) != 1: \n",
    "                coef_surv = sublist_coef.index(min([coef[indice] for indice in coef_surv]))\n",
    "                casians.append(sublist_terms[coef_surv])\n",
    "            else: \n",
    "                casians.append(terms[coef_surv[0]])\n",
    "        ans = []\n",
    "        for t in casians: \n",
    "            if t not in ans: \n",
    "                ans.append(t)\n",
    "    return ans\n",
    "\n",
    "# OPERACIÓN PRODUCTO - SUMA \n",
    "# Definición de la operación Producto\n",
    "def punto(terms, polynom = None): \n",
    "    if polynom == None: \n",
    "        ans = 0\n",
    "        for i in terms: \n",
    "            ans += i\n",
    "    else: \n",
    "        coef = []\n",
    "        for i in terms: \n",
    "            coef.append(i.coefficients()[0][0])\n",
    "        for i in range(polynom - 1): \n",
    "            for j in range(len(coef)):\n",
    "                coef[j] = coef[j].coefficients()[0][0]\n",
    "        new_coef = [0, 1]\n",
    "        for i in coef: \n",
    "            new_coef[1] *= i\n",
    "            if i != 1: \n",
    "                new_coef[0] += i\n",
    "        prod = 1 \n",
    "        for i in terms: \n",
    "            prod *= i\n",
    "        if new_coef[0] != 0: \n",
    "            ans = prod / new_coef[1] * new_coef[0]\n",
    "        else: \n",
    "            ans = prod / new_coef[1] \n",
    "    return ans  \n",
    "\n",
    "# Provas \n",
    "var('x y z')\n",
    "plus([3*x**5*y*z**7, 6*x*y**2*z**5, x*y**2*z**5], polynom = 2)\n",
    "#punto([3*x**5*y*z**7, 6*x*y**2*z**5, x*y**2*z**5], polynom = 3)"
   ]
  },
  {
   "cell_type": "code",
   "execution_count": 2,
   "id": "071434ad-e09c-49e0-af9b-5d73dffaba68",
   "metadata": {},
   "outputs": [],
   "source": [
    "# Función busca posibles soluciones \n",
    "def find_sum_combinations(target_sum, num_elements, current_combination, all_combinations):\n",
    "    if num_elements == 0:\n",
    "        if target_sum == 0:\n",
    "            all_combinations.append(current_combination)\n",
    "        return\n",
    "    \n",
    "    for value in range(target_sum + 1):\n",
    "        find_sum_combinations(target_sum - value, num_elements - 1, current_combination + [value], all_combinations)"
   ]
  },
  {
   "cell_type": "markdown",
   "id": "1fc2dc71-0eab-492e-8986-609c5f5410e5",
   "metadata": {},
   "source": [
    "## Abordaje a la proposición 1.2.2"
   ]
  },
  {
   "cell_type": "code",
   "execution_count": 3,
   "id": "5fe664d0-297e-4dbd-af3f-3a3443f90d19",
   "metadata": {},
   "outputs": [],
   "source": [
    "# FUNCIÓN BUSQUEDA SOLUCIÓN OPTIMA \n",
    "# A: Matriz asociada \n",
    "# b: Vector independiente \n",
    "# w: Vector pesos \n",
    "# m: Potencia buscada  \n",
    "def prop122(A, b, w, m):\n",
    "    \n",
    "    # Cálculo de potencia del polinomio p*p*p\n",
    "    pol = []\n",
    "    for i in range(w.ncols()):\n",
    "        pol.append(w[0,i]*x**A[0,i]*y**A[1,i])\n",
    "    print(f\"Polinomio asociado: {pol}\")\n",
    "    producto = []\n",
    "    contador = 0\n",
    "    while contador < m-1: \n",
    "        if contador == 0: \n",
    "            for i in pol: \n",
    "                for j in pol: \n",
    "                    producto.append(punto([i,j], polynom = 2))\n",
    "            producto = plus(producto, polynom = 2)\n",
    "            contador += 1\n",
    "        else:\n",
    "            new_producto = []\n",
    "            for i in pol: \n",
    "                for j in producto: \n",
    "                    new_producto.append(punto([i,j], polynom = 2))\n",
    "            producto = plus(new_producto, polynom = 2)\n",
    "            contador += 1\n",
    "    print(f\"m-ésima potencia: {producto}\")\n",
    "\n",
    "    # Busqueda del coeficiencia optimo\n",
    "    potencias = []\n",
    "    coef = []\n",
    "    polynom = 2\n",
    "    for i in producto: \n",
    "        coef.append(i.coefficients(x)[0][0])\n",
    "        potencias.append([i.coefficients(x)[0][1]])\n",
    "    for i in range(polynom - 1): \n",
    "        for j in range(len(potencias)):\n",
    "            potencias[j].append(coef[j].coefficients()[0][1])\n",
    "            coef[j] = coef[j].coefficients()[0][0]\n",
    "    ind_ans = potencias.index([b[0][0], b[1][0]])\n",
    "    cof_opt = coef[ind_ans]\n",
    "    print(f\"Coeficiente optimo: {cof_opt}\")\n",
    "\n",
    "    # Busca en las soluciones w*u = coef optimo && solución del sistema\n",
    "    all_combinations = [] \n",
    "    find_sum_combinations(m, A.ncols(), [], all_combinations)\n",
    "    ans = []\n",
    "    contador = 0\n",
    "    for combination in all_combinations:\n",
    "        contador += 1\n",
    "        combination = Matrix(combination).transpose()\n",
    "        if w*combination == cof_opt and A*combination == b: \n",
    "            ans = combination.transpose()\n",
    "            print(f\"Iteraciones: {contador}\")\n",
    "    ## ##\n",
    "    \n",
    "    print(f\"Solución optima: {ans}\")"
   ]
  },
  {
   "cell_type": "code",
   "execution_count": 12,
   "id": "315f92d3-9c49-4e96-b2f5-1c53ae80920d",
   "metadata": {},
   "outputs": [
    {
     "name": "stdout",
     "output_type": "stream",
     "text": [
      "CPU times: user 7 µs, sys: 0 ns, total: 7 µs\n",
      "Wall time: 11.2 µs\n",
      "Polinomio asociado: [2*x^4, 5*x^3*y, 11*x^2*y^2, 7*x*y^3, 3*y^4]\n",
      "m-ésima potencia: [6*x^12, 9*x^11*y, 12*x^10*y^2, 11*x^9*y^3, 7*x^8*y^4, 10*x^7*y^5, 13*x^6*y^6, 12*x^5*y^7, 8*x^4*y^8, 11*x^3*y^9, 17*x^2*y^10, 13*x*y^11, 9*y^12]\n",
      "Coeficiente optimo: 12\n",
      "Iteraciones: 22\n",
      "Solución optima: [1 0 0 1 1]\n"
     ]
    }
   ],
   "source": [
    "%time\n",
    "## Ejemplo del libro \n",
    "var('x y z')\n",
    "A = matrix([[4,3,2,1,0], \n",
    "           [0,1,2,3,4]]); \n",
    "b = matrix([[5],\n",
    "           [7]]); \n",
    "w = matrix([[2,5,11,7,3]]); \n",
    "m = 3; \n",
    "\n",
    "prop122(A, b, w, m)"
   ]
  },
  {
   "cell_type": "code",
   "execution_count": 21,
   "id": "d8dc7d26-33ea-4b19-9896-356d3a6ae9a4",
   "metadata": {},
   "outputs": [
    {
     "name": "stdout",
     "output_type": "stream",
     "text": [
      "CPU times: user 2 µs, sys: 0 ns, total: 2 µs\n",
      "Wall time: 3.34 µs\n",
      "Polinomio asociado: [2*x^3*y^3, 7*x*y^5, x^4*y^2, 8*x*y^5, 3*x^6]\n",
      "m-ésima potencia: [6*x^9*y^9, 11*x^7*y^11, 4*x^10*y^8, x^12*y^6, 16*x^5*y^13, 9*x^8*y^10, 2*x^11*y^7, 5*x^13*y^5, 8*x^15*y^3, 21*x^3*y^15, 14*x^6*y^12, 3*x^14*y^4, 6*x^16*y^2, 9*x^18]\n",
      "Coeficiente optimo: 2\n",
      "Solución optima: []\n"
     ]
    }
   ],
   "source": [
    "%time\n",
    "## Ejemplo de la tésis \n",
    "var('x y z')\n",
    "A = matrix([[3,1,4,1,6], \n",
    "            [3,5,2,5,0]]); \n",
    "b = matrix([[11],\n",
    "           [7]]); \n",
    "w = matrix([[2,7,1,8,3]]); \n",
    "m = 3; \n",
    "\n",
    "prop122(A, b, w, m)"
   ]
  },
  {
   "cell_type": "markdown",
   "id": "a29d56e8-6602-4482-8278-efe8571db576",
   "metadata": {},
   "source": [
    "## Abordaje desde Programación Lineal Entera"
   ]
  },
  {
   "cell_type": "code",
   "execution_count": 6,
   "id": "cd649cff-a65b-434b-a24c-25dcb35f13b8",
   "metadata": {},
   "outputs": [],
   "source": [
    "# Solución del Problema con programación ksual\n",
    "def pli(A, b, w, m): \n",
    "    all_combinations = [] \n",
    "    find_sum_combinations(m, A.ncols(), [], all_combinations)\n",
    "    ans = []\n",
    "    pos_val = []\n",
    "    contador = 0\n",
    "    for combination in all_combinations:\n",
    "        contador += 1\n",
    "        combination = Matrix(combination).transpose()\n",
    "        if A*combination == b: \n",
    "            ans.append(combination.transpose())\n",
    "            pos_val.append(w*combination)\n",
    "    print(f\"Soluciones: \\n{ans}\\nIteraciones: {contador + 1}\")\n",
    "    ind_min = pos_val.index(min(pos_val))\n",
    "    ans = ans[ind_min]\n",
    "    print(f\"Solución optima: \\n{ans}\")"
   ]
  },
  {
   "cell_type": "code",
   "execution_count": 22,
   "id": "a307459e-d766-49ca-9a6d-4c16b7d1d22c",
   "metadata": {},
   "outputs": [
    {
     "name": "stdout",
     "output_type": "stream",
     "text": [
      "CPU times: user 4 µs, sys: 0 ns, total: 4 µs\n",
      "Wall time: 7.39 µs\n",
      "Soluciones: \n",
      "[[0 0 2 1 0], [0 1 0 2 0], [0 1 1 0 1], [1 0 0 1 1]]\n",
      "Iteraciones: 36\n",
      "Solución optima: \n",
      "[1 0 0 1 1]\n"
     ]
    }
   ],
   "source": [
    "%time\n",
    "## Ejemplo del libro \n",
    "var('x y z')\n",
    "A = matrix([[4,3,2,1,0], \n",
    "           [0,1,2,3,4]]); \n",
    "b = matrix([[5],\n",
    "           [7]]); \n",
    "w = matrix([[2,5,11,7,3]]); \n",
    "m = 3; \n",
    "\n",
    "pli(A, b, w, m)"
   ]
  },
  {
   "cell_type": "code",
   "execution_count": 23,
   "id": "d1986417-aaf7-4268-9de0-1e9c2dc24829",
   "metadata": {},
   "outputs": [
    {
     "name": "stdout",
     "output_type": "stream",
     "text": [
      "CPU times: user 2 µs, sys: 1e+03 ns, total: 3 µs\n",
      "Wall time: 5.25 µs\n",
      "Soluciones: \n",
      "[[0 0 1 1 1], [0 1 1 0 1], [1 0 2 0 0]]\n",
      "Iteraciones: 36\n",
      "Solución optima: \n",
      "[1 0 2 0 0]\n"
     ]
    }
   ],
   "source": [
    "%time\n",
    "## Ejemplo de la tésis \n",
    "var('x y z')\n",
    "A = matrix([[3,1,4,1,6], \n",
    "            [3,5,2,5,0]]); \n",
    "b = matrix([[11],\n",
    "           [7]]); \n",
    "w = matrix([[2,7,1,8,3]]); \n",
    "m = 3; \n",
    "\n",
    "pli(A, b, w, m)"
   ]
  },
  {
   "cell_type": "code",
   "execution_count": 9,
   "id": "72802e54-1f01-48a5-8936-45d328968280",
   "metadata": {},
   "outputs": [
    {
     "name": "stdout",
     "output_type": "stream",
     "text": [
      "CPU times: user 1e+03 ns, sys: 0 ns, total: 1e+03 ns\n",
      "Wall time: 3.34 µs\n",
      "Soluciones: \n",
      "[]\n",
      "Iteraciones: 8569\n"
     ]
    },
    {
     "ename": "ValueError",
     "evalue": "min() arg is an empty sequence",
     "output_type": "error",
     "traceback": [
      "\u001b[0;31m---------------------------------------------------------------------------\u001b[0m",
      "\u001b[0;31mValueError\u001b[0m                                Traceback (most recent call last)",
      "Cell \u001b[0;32mIn[9], line 13\u001b[0m\n\u001b[1;32m     10\u001b[0m w \u001b[38;5;241m=\u001b[39m matrix([[Integer(\u001b[38;5;241m2\u001b[39m),Integer(\u001b[38;5;241m5\u001b[39m),Integer(\u001b[38;5;241m11\u001b[39m),Integer(\u001b[38;5;241m7\u001b[39m),Integer(\u001b[38;5;241m13\u001b[39m),Integer(\u001b[38;5;241m1\u001b[39m)]]); \n\u001b[1;32m     11\u001b[0m m \u001b[38;5;241m=\u001b[39m Integer(\u001b[38;5;241m13\u001b[39m); \n\u001b[0;32m---> 13\u001b[0m \u001b[43mpli\u001b[49m\u001b[43m(\u001b[49m\u001b[43mA\u001b[49m\u001b[43m,\u001b[49m\u001b[43m \u001b[49m\u001b[43mb\u001b[49m\u001b[43m,\u001b[49m\u001b[43m \u001b[49m\u001b[43mw\u001b[49m\u001b[43m,\u001b[49m\u001b[43m \u001b[49m\u001b[43mm\u001b[49m\u001b[43m)\u001b[49m\n",
      "Cell \u001b[0;32mIn[6], line 15\u001b[0m, in \u001b[0;36mpli\u001b[0;34m(A, b, w, m)\u001b[0m\n\u001b[1;32m     13\u001b[0m         pos_val\u001b[38;5;241m.\u001b[39mappend(w\u001b[38;5;241m*\u001b[39mcombination)\n\u001b[1;32m     14\u001b[0m \u001b[38;5;28mprint\u001b[39m(\u001b[38;5;124mf\u001b[39m\u001b[38;5;124m\"\u001b[39m\u001b[38;5;124mSoluciones: \u001b[39m\u001b[38;5;130;01m\\n\u001b[39;00m\u001b[38;5;132;01m{\u001b[39;00mans\u001b[38;5;132;01m}\u001b[39;00m\u001b[38;5;130;01m\\n\u001b[39;00m\u001b[38;5;124mIteraciones: \u001b[39m\u001b[38;5;132;01m{\u001b[39;00mcontador\u001b[38;5;250m \u001b[39m\u001b[38;5;241m+\u001b[39m\u001b[38;5;250m \u001b[39mInteger(\u001b[38;5;241m1\u001b[39m)\u001b[38;5;132;01m}\u001b[39;00m\u001b[38;5;124m\"\u001b[39m)\n\u001b[0;32m---> 15\u001b[0m ind_min \u001b[38;5;241m=\u001b[39m pos_val\u001b[38;5;241m.\u001b[39mindex(\u001b[38;5;28;43mmin\u001b[39;49m\u001b[43m(\u001b[49m\u001b[43mpos_val\u001b[49m\u001b[43m)\u001b[49m)\n\u001b[1;32m     16\u001b[0m ans \u001b[38;5;241m=\u001b[39m ans[ind_min]\n\u001b[1;32m     17\u001b[0m \u001b[38;5;28mprint\u001b[39m(\u001b[38;5;124mf\u001b[39m\u001b[38;5;124m\"\u001b[39m\u001b[38;5;124mSolución optima: \u001b[39m\u001b[38;5;130;01m\\n\u001b[39;00m\u001b[38;5;132;01m{\u001b[39;00mans\u001b[38;5;132;01m}\u001b[39;00m\u001b[38;5;124m\"\u001b[39m)\n",
      "\u001b[0;31mValueError\u001b[0m: min() arg is an empty sequence"
     ]
    }
   ],
   "source": [
    "%time\n",
    "## Ejemplo del libro \n",
    "var('x y z')\n",
    "A = matrix([[4 ,4 , 2, 4, 0,12], \n",
    "            [10,11, 8, 6, 4,12],\n",
    "            [11,10,15,15,21,1]]); \n",
    "b = matrix([[105],\n",
    "            [157],\n",
    "            [13]]); \n",
    "w = matrix([[2,5,11,7,13,1]]); \n",
    "m = 13; \n",
    "\n",
    "pli(A, b, w, m)"
   ]
  }
 ],
 "metadata": {
  "kernelspec": {
   "display_name": "SageMath 10.1",
   "language": "sage",
   "name": "sagemath"
  },
  "language_info": {
   "codemirror_mode": {
    "name": "ipython",
    "version": 3
   },
   "file_extension": ".py",
   "mimetype": "text/x-python",
   "name": "python",
   "nbconvert_exporter": "python",
   "pygments_lexer": "ipython3",
   "version": "3.11.3"
  }
 },
 "nbformat": 4,
 "nbformat_minor": 5
}
